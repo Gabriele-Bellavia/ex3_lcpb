{
 "cells": [
  {
   "cell_type": "markdown",
   "id": "16aa5c44",
   "metadata": {},
   "source": [
    "## 1. Explain the initialization of visible biases proposed by Hinton"
   ]
  },
  {
   "cell_type": "markdown",
   "id": "75333a1a",
   "metadata": {},
   "source": [
    "The biases are set so that the neurons have on average an activation that matches the distribution of the training data (pag 98 Metha, a fine pagina). This helps stabilize learning and prevettns the model from learning too slowli.\n",
    "\n",
    "Hinton suggest initializing the bias $a_i$ of a visible unit $v_i$ such as $ a_i = \\log(\\frac{p_i}{1-p_i})$ (pag 9, §8, Hint) where $p_i$ is the average activation probability of visible unit $v_i$ in the training dataset (tee fraction of training samples where $v_i = 1$). But the probabiliy activation for visible neuron is $P(x_i=1|h)= \\sigma(a_i + \\sum_j h_j w_{ij})$ (pag 6, §3.2, Hint) where $\\sigma(x) = \\frac{1}{1+e^{-x}}$. If we set $w_{ij}\\sim 0$, we have $P(x_i=1) \\sim \\sigma(a_i)$, hence $\\sigma(a_i) = p_i)$. Hence the initial probability that the neuron will be active is exaclty $p_i$, that is the probability that the neuron is on in the training data (sempre pag 98 metha). This justify the choice of initialization. \n",
    "\n",
    "(from Chatgpt, qualitative)\n",
    "Also, we can just observe that if a pixel is often active in the dataset ($p\\sim 1$),the bias will be higly positive, encouraging the neuron to be active). If a pixel is rarely active ($p_i \\sim 0$), the bias will be highly negative, discouragin activation. If $p_i = 0.5$, the bias will be zero, meaning the neuron has a neutral activation probability.\n",
    "\n",
    "This avoids saturation, stabilizes training and improve sampling."
   ]
  },
  {
   "cell_type": "code",
   "execution_count": null,
   "id": "fed904a8",
   "metadata": {},
   "outputs": [],
   "source": []
  }
 ],
 "metadata": {
  "kernelspec": {
   "display_name": "Python 3 (ipykernel)",
   "language": "python",
   "name": "python3"
  },
  "language_info": {
   "codemirror_mode": {
    "name": "ipython",
    "version": 3
   },
   "file_extension": ".py",
   "mimetype": "text/x-python",
   "name": "python",
   "nbconvert_exporter": "python",
   "pygments_lexer": "ipython3",
   "version": "3.12.3"
  }
 },
 "nbformat": 4,
 "nbformat_minor": 5
}
